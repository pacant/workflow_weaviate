{
 "cells": [
  {
   "cell_type": "code",
   "execution_count": 439,
   "id": "8a5c8729",
   "metadata": {},
   "outputs": [],
   "source": [
    "import weaviate\n",
    "import weaviate.classes as wvc\n",
    "import os\n",
    "import pandas as pd\n",
    "import requests\n",
    "import json\n",
    "from dotenv import load_dotenv\n",
    "from sklearn.decomposition import PCA"
   ]
  },
  {
   "cell_type": "code",
   "execution_count": 440,
   "id": "055c8c9d",
   "metadata": {},
   "outputs": [
    {
     "data": {
      "text/plain": [
       "True"
      ]
     },
     "execution_count": 440,
     "metadata": {},
     "output_type": "execute_result"
    }
   ],
   "source": [
    "load_dotenv()"
   ]
  },
  {
   "cell_type": "code",
   "execution_count": 441,
   "id": "bf8735f5",
   "metadata": {},
   "outputs": [],
   "source": [
    "load_dotenv()\n",
    "client = weaviate.connect_to_wcs(\n",
    "    cluster_url=os.getenv(\"WCD_URL2\"),\n",
    "    auth_credentials=weaviate.auth.AuthApiKey(os.getenv(\"WCD_API_KEY2\")),\n",
    "    headers={\n",
    "        \"X-Cohere-Api-Key\": os.environ[\"COHERE_APIKEY2\"] \n",
    "    }\n",
    ")"
   ]
  },
  {
   "cell_type": "code",
   "execution_count": 442,
   "id": "d92219d7",
   "metadata": {},
   "outputs": [],
   "source": [
    "movies = pd.read_csv('movie.csv')\n",
    "tags = pd.read_csv('tag.csv')"
   ]
  },
  {
   "cell_type": "code",
   "execution_count": 443,
   "id": "b94db492",
   "metadata": {},
   "outputs": [],
   "source": [
    "max_tags = 5\n",
    "def truncate_and_remove_duplicates(tag_list):\n",
    "    truncated_list = tag_list[:max_tags]\n",
    "    unique_tags = list(dict.fromkeys(truncated_list))\n",
    "    return unique_tags"
   ]
  },
  {
   "cell_type": "code",
   "execution_count": 444,
   "id": "0f5d5be3",
   "metadata": {},
   "outputs": [],
   "source": [
    "# -- data preparation -- #\n",
    "tags = tags.drop(columns=['timestamp','userId'])\n",
    "tags = tags[~tags.isnull().any(axis=1)]\n",
    "tags_grouped = tags.groupby('movieId')['tag'].apply(list).reset_index()\n",
    "tags_grouped['tag'] = tags_grouped['tag'].apply(truncate_and_remove_duplicates)\n",
    "movies_tag = pd.merge(movies, tags_grouped, on='movieId', how='left')\n",
    "movies_tag = movies_tag.drop(columns=['movieId'])"
   ]
  },
  {
   "cell_type": "code",
   "execution_count": 445,
   "id": "f59c1c06",
   "metadata": {},
   "outputs": [],
   "source": [
    "movies_tag = movies_tag.iloc[:3000]"
   ]
  },
  {
   "cell_type": "code",
   "execution_count": 446,
   "id": "aea1b610",
   "metadata": {},
   "outputs": [],
   "source": [
    "try: \n",
    "    # -- create Movies collection -- #\n",
    "    questions = client.collections.create(\n",
    "        name=\"Movies\",\n",
    "        properties=[\n",
    "        wvc.config.Property(name=\"title\", data_type=wvc.config.DataType.TEXT),\n",
    "        wvc.config.Property(name=\"genres\", data_type=wvc.config.DataType.TEXT),\n",
    "        wvc.config.Property(name=\"tag\", data_type=wvc.config.DataType.TEXT_ARRAY),\n",
    "        ],\n",
    "        vectorizer_config=[\n",
    "            wvc.config.Configure.NamedVectors.text2vec_cohere(name=\"title\", source_properties=[\"title\"]),\n",
    "                vector_index_config=wvc.config.Configure.VectorIndex.hnsw(\n",
    "                quantizer=wvc.config.Configure.VectorIndex.Quantizer.bq(rescore_limit=50),\n",
    "                distance_metric=wvc.config.VectorDistances.HAMMING,\n",
    "            ),\n",
    "            wvc.config.Configure.NamedVectors.text2vec_cohere(name=\"tag\", source_properties=[\"tag\"]),\n",
    "                vector_index_config=wvc.config.Configure.VectorIndex.hnsw(\n",
    "                    quantizer=wvc.config.Configure.VectorIndex.Quantizer.bq(rescore_limit=50),\n",
    "                    distance_metric=wvc.config.VectorDistances.HAMMING,\n",
    "                ),\n",
    "        ],\n",
    "        generative_config=wvc.config.Configure.Generative.cohere() \n",
    "    )\n",
    "    \n",
    "    # -- import data into Weaviate -- #\n",
    "    question_objs = []\n",
    "    for index, row in movies_tag.iterrows():\n",
    "        question_objs.append({\n",
    "            \"title\": row[\"title\"],\n",
    "            \"genres\": row[\"genres\"],\n",
    "            \"tag\": row[\"tag\"],\n",
    "        })\n",
    "    movies = client.collections.get(\"Movies\")\n",
    "    movies.data.insert_many(question_objs)\n",
    "finally:\n",
    "    client.close()  # Close client gracefully"
   ]
  },
  {
   "cell_type": "code",
   "execution_count": 450,
   "id": "47380eaf",
   "metadata": {},
   "outputs": [
    {
     "name": "stdout",
     "output_type": "stream",
     "text": [
      "{'tag': ['assassin', 'dark comedy', 'killer-as-protagonist', 'mafia', 'classic'], 'title': 'Grosse Pointe Blank (1997)', 'genres': 'Comedy|Crime|Romance'}\n"
     ]
    }
   ],
   "source": [
    "try:\n",
    "    client.connect()\n",
    "    questions = client.collections.get(\"Movies\")\n",
    "    response = questions.query.near_text(\n",
    "        query=\"taxi driver\",\n",
    "        target_vector=\"title\",\n",
    "        limit=1\n",
    "    )\n",
    "    response_tag = questions.query.near_text(\n",
    "        query= str(response.objects[0].properties['tag']),\n",
    "        target_vector=\"tag\",\n",
    "        limit=4\n",
    "    )\n",
    "    print(response_tag.objects[1].properties)\n",
    "finally:\n",
    "    client.close()"
   ]
  }
 ],
 "metadata": {
  "kernelspec": {
   "display_name": "Python 3 (ipykernel)",
   "language": "python",
   "name": "python3"
  },
  "language_info": {
   "codemirror_mode": {
    "name": "ipython",
    "version": 3
   },
   "file_extension": ".py",
   "mimetype": "text/x-python",
   "name": "python",
   "nbconvert_exporter": "python",
   "pygments_lexer": "ipython3",
   "version": "3.11.5"
  }
 },
 "nbformat": 4,
 "nbformat_minor": 5
}

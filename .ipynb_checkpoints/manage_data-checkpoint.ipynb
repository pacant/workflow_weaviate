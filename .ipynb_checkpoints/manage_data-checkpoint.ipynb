{
 "cells": [
  {
   "cell_type": "code",
   "execution_count": 451,
   "id": "8a5c8729",
   "metadata": {},
   "outputs": [],
   "source": [
    "import weaviate\n",
    "import weaviate.classes as wvc\n",
    "import os\n",
    "import pandas as pd\n",
    "import requests\n",
    "import json\n",
    "from dotenv import load_dotenv\n",
    "from sklearn.decomposition import PCA"
   ]
  },
  {
   "cell_type": "code",
   "execution_count": 452,
   "id": "08588cc6",
   "metadata": {},
   "outputs": [
    {
     "data": {
      "text/plain": [
       "True"
      ]
     },
     "execution_count": 452,
     "metadata": {},
     "output_type": "execute_result"
    }
   ],
   "source": [
    "load_dotenv()"
   ]
  },
  {
   "cell_type": "code",
   "execution_count": 453,
   "id": "bf8735f5",
   "metadata": {},
   "outputs": [
    {
     "ename": "WeaviateGRPCUnavailableError",
     "evalue": "\nWeaviate v1.25.2 makes use of a high-speed gRPC API as well as a REST API.\nUnfortunately, the gRPC health check against Weaviate could not be completed.\n\nThis error could be due to one of several reasons:\n- The gRPC traffic at the specified port is blocked by a firewall.\n- gRPC is not enabled or incorrectly configured on the server or the client.\n    - Please check that the server address and port (pacant1-sandbox-z4lk9273.grpc.weaviate.network:443) are correct.\n- your connection is unstable or has a high latency. In this case you can:\n    - increase init-timeout in `weaviate.connect_to_local(additional_config=wvc.init.AdditionalConfig(timeout=wvc.init.Timeout(init=X)))`\n    - disable startup checks by connecting using `skip_init_checks=True`\n",
     "output_type": "error",
     "traceback": [
      "\u001b[0;31m---------------------------------------------------------------------------\u001b[0m",
      "\u001b[0;31m_InactiveRpcError\u001b[0m                         Traceback (most recent call last)",
      "File \u001b[0;32m~/anaconda3/lib/python3.11/site-packages/weaviate/connect/v4.py:696\u001b[0m, in \u001b[0;36mConnectionV4._ping_grpc\u001b[0;34m(self)\u001b[0m\n\u001b[1;32m    695\u001b[0m \u001b[38;5;28;01mtry\u001b[39;00m:\n\u001b[0;32m--> 696\u001b[0m     res: health_pb2\u001b[38;5;241m.\u001b[39mHealthCheckResponse \u001b[38;5;241m=\u001b[39m \u001b[38;5;28mself\u001b[39m\u001b[38;5;241m.\u001b[39m_grpc_channel\u001b[38;5;241m.\u001b[39munary_unary(\n\u001b[1;32m    697\u001b[0m         \u001b[38;5;124m\"\u001b[39m\u001b[38;5;124m/grpc.health.v1.Health/Check\u001b[39m\u001b[38;5;124m\"\u001b[39m,\n\u001b[1;32m    698\u001b[0m         request_serializer\u001b[38;5;241m=\u001b[39mhealth_pb2\u001b[38;5;241m.\u001b[39mHealthCheckRequest\u001b[38;5;241m.\u001b[39mSerializeToString,\n\u001b[1;32m    699\u001b[0m         response_deserializer\u001b[38;5;241m=\u001b[39mhealth_pb2\u001b[38;5;241m.\u001b[39mHealthCheckResponse\u001b[38;5;241m.\u001b[39mFromString,\n\u001b[1;32m    700\u001b[0m     )(health_pb2\u001b[38;5;241m.\u001b[39mHealthCheckRequest(), timeout\u001b[38;5;241m=\u001b[39m\u001b[38;5;28mself\u001b[39m\u001b[38;5;241m.\u001b[39mtimeout_config\u001b[38;5;241m.\u001b[39minit)\n\u001b[1;32m    701\u001b[0m     \u001b[38;5;28;01mif\u001b[39;00m res\u001b[38;5;241m.\u001b[39mstatus \u001b[38;5;241m!=\u001b[39m health_pb2\u001b[38;5;241m.\u001b[39mHealthCheckResponse\u001b[38;5;241m.\u001b[39mSERVING:\n",
      "File \u001b[0;32m~/anaconda3/lib/python3.11/site-packages/grpc/_channel.py:1181\u001b[0m, in \u001b[0;36m_UnaryUnaryMultiCallable.__call__\u001b[0;34m(self, request, timeout, metadata, credentials, wait_for_ready, compression)\u001b[0m\n\u001b[1;32m   1175\u001b[0m (\n\u001b[1;32m   1176\u001b[0m     state,\n\u001b[1;32m   1177\u001b[0m     call,\n\u001b[1;32m   1178\u001b[0m ) \u001b[38;5;241m=\u001b[39m \u001b[38;5;28mself\u001b[39m\u001b[38;5;241m.\u001b[39m_blocking(\n\u001b[1;32m   1179\u001b[0m     request, timeout, metadata, credentials, wait_for_ready, compression\n\u001b[1;32m   1180\u001b[0m )\n\u001b[0;32m-> 1181\u001b[0m \u001b[38;5;28;01mreturn\u001b[39;00m _end_unary_response_blocking(state, call, \u001b[38;5;28;01mFalse\u001b[39;00m, \u001b[38;5;28;01mNone\u001b[39;00m)\n",
      "File \u001b[0;32m~/anaconda3/lib/python3.11/site-packages/grpc/_channel.py:1006\u001b[0m, in \u001b[0;36m_end_unary_response_blocking\u001b[0;34m(state, call, with_call, deadline)\u001b[0m\n\u001b[1;32m   1005\u001b[0m \u001b[38;5;28;01melse\u001b[39;00m:\n\u001b[0;32m-> 1006\u001b[0m     \u001b[38;5;28;01mraise\u001b[39;00m _InactiveRpcError(state)\n",
      "\u001b[0;31m_InactiveRpcError\u001b[0m: <_InactiveRpcError of RPC that terminated with:\n\tstatus = StatusCode.DEADLINE_EXCEEDED\n\tdetails = \"Deadline Exceeded\"\n\tdebug_error_string = \"UNKNOWN:Error received from peer  {grpc_message:\"Deadline Exceeded\", grpc_status:4, created_time:\"2024-06-10T14:28:01.115697+02:00\"}\"\n>",
      "\nThe above exception was the direct cause of the following exception:\n",
      "\u001b[0;31mWeaviateGRPCUnavailableError\u001b[0m              Traceback (most recent call last)",
      "Cell \u001b[0;32mIn[453], line 2\u001b[0m\n\u001b[1;32m      1\u001b[0m load_dotenv()\n\u001b[0;32m----> 2\u001b[0m client \u001b[38;5;241m=\u001b[39m weaviate\u001b[38;5;241m.\u001b[39mconnect_to_wcs(\n\u001b[1;32m      3\u001b[0m     cluster_url\u001b[38;5;241m=\u001b[39mos\u001b[38;5;241m.\u001b[39mgetenv(\u001b[38;5;124m\"\u001b[39m\u001b[38;5;124mWCD_URL2\u001b[39m\u001b[38;5;124m\"\u001b[39m),\n\u001b[1;32m      4\u001b[0m     auth_credentials\u001b[38;5;241m=\u001b[39mweaviate\u001b[38;5;241m.\u001b[39mauth\u001b[38;5;241m.\u001b[39mAuthApiKey(os\u001b[38;5;241m.\u001b[39mgetenv(\u001b[38;5;124m\"\u001b[39m\u001b[38;5;124mWCD_API_KEY2\u001b[39m\u001b[38;5;124m\"\u001b[39m)),\n\u001b[1;32m      5\u001b[0m     headers\u001b[38;5;241m=\u001b[39m{\n\u001b[1;32m      6\u001b[0m         \u001b[38;5;124m\"\u001b[39m\u001b[38;5;124mX-Cohere-Api-Key\u001b[39m\u001b[38;5;124m\"\u001b[39m: os\u001b[38;5;241m.\u001b[39menviron[\u001b[38;5;124m\"\u001b[39m\u001b[38;5;124mCOHERE_APIKEY2\u001b[39m\u001b[38;5;124m\"\u001b[39m] \n\u001b[1;32m      7\u001b[0m     }\n\u001b[1;32m      8\u001b[0m )\n",
      "File \u001b[0;32m~/anaconda3/lib/python3.11/site-packages/weaviate/connect/helpers.py:139\u001b[0m, in \u001b[0;36mconnect_to_wcs\u001b[0;34m(cluster_url, auth_credentials, headers, additional_config, skip_init_checks)\u001b[0m\n\u001b[1;32m     88\u001b[0m \u001b[38;5;28;01mdef\u001b[39;00m \u001b[38;5;21mconnect_to_wcs\u001b[39m(\n\u001b[1;32m     89\u001b[0m     cluster_url: \u001b[38;5;28mstr\u001b[39m,\n\u001b[1;32m     90\u001b[0m     auth_credentials: Optional[AuthCredentials],\n\u001b[0;32m   (...)\u001b[0m\n\u001b[1;32m     93\u001b[0m     skip_init_checks: \u001b[38;5;28mbool\u001b[39m \u001b[38;5;241m=\u001b[39m \u001b[38;5;28;01mFalse\u001b[39;00m,\n\u001b[1;32m     94\u001b[0m ) \u001b[38;5;241m-\u001b[39m\u001b[38;5;241m>\u001b[39m WeaviateClient:\n\u001b[1;32m     95\u001b[0m \u001b[38;5;250m    \u001b[39m\u001b[38;5;124;03m\"\"\"\u001b[39;00m\n\u001b[1;32m     96\u001b[0m \u001b[38;5;124;03m    Connect to a Weaviate Cloud (WCD) instance.\u001b[39;00m\n\u001b[1;32m     97\u001b[0m \n\u001b[0;32m   (...)\u001b[0m\n\u001b[1;32m    137\u001b[0m \u001b[38;5;124;03m        >>> # The connection is automatically closed when the context is exited.\u001b[39;00m\n\u001b[1;32m    138\u001b[0m \u001b[38;5;124;03m    \"\"\"\u001b[39;00m\n\u001b[0;32m--> 139\u001b[0m     \u001b[38;5;28;01mreturn\u001b[39;00m connect_to_weaviate_cloud(\n\u001b[1;32m    140\u001b[0m         cluster_url, auth_credentials, headers, additional_config, skip_init_checks\n\u001b[1;32m    141\u001b[0m     )\n",
      "File \u001b[0;32m~/anaconda3/lib/python3.11/site-packages/weaviate/connect/helpers.py:85\u001b[0m, in \u001b[0;36mconnect_to_weaviate_cloud\u001b[0;34m(cluster_url, auth_credentials, headers, additional_config, skip_init_checks)\u001b[0m\n\u001b[1;32m     73\u001b[0m     grpc_host \u001b[38;5;241m=\u001b[39m \u001b[38;5;124mf\u001b[39m\u001b[38;5;124m\"\u001b[39m\u001b[38;5;124mgrpc-\u001b[39m\u001b[38;5;132;01m{\u001b[39;00mcluster_url\u001b[38;5;132;01m}\u001b[39;00m\u001b[38;5;124m\"\u001b[39m\n\u001b[1;32m     75\u001b[0m client \u001b[38;5;241m=\u001b[39m WeaviateClient(\n\u001b[1;32m     76\u001b[0m     connection_params\u001b[38;5;241m=\u001b[39mConnectionParams(\n\u001b[1;32m     77\u001b[0m         http\u001b[38;5;241m=\u001b[39mProtocolParams(host\u001b[38;5;241m=\u001b[39mcluster_url, port\u001b[38;5;241m=\u001b[39m\u001b[38;5;241m443\u001b[39m, secure\u001b[38;5;241m=\u001b[39m\u001b[38;5;28;01mTrue\u001b[39;00m),\n\u001b[0;32m   (...)\u001b[0m\n\u001b[1;32m     83\u001b[0m     skip_init_checks\u001b[38;5;241m=\u001b[39mskip_init_checks,\n\u001b[1;32m     84\u001b[0m )\n\u001b[0;32m---> 85\u001b[0m \u001b[38;5;28;01mreturn\u001b[39;00m __connect(client)\n",
      "File \u001b[0;32m~/anaconda3/lib/python3.11/site-packages/weaviate/connect/helpers.py:401\u001b[0m, in \u001b[0;36m__connect\u001b[0;34m(client)\u001b[0m\n\u001b[1;32m    399\u001b[0m \u001b[38;5;28;01mexcept\u001b[39;00m \u001b[38;5;167;01mException\u001b[39;00m \u001b[38;5;28;01mas\u001b[39;00m e:\n\u001b[1;32m    400\u001b[0m     client\u001b[38;5;241m.\u001b[39mclose()\n\u001b[0;32m--> 401\u001b[0m     \u001b[38;5;28;01mraise\u001b[39;00m e\n",
      "File \u001b[0;32m~/anaconda3/lib/python3.11/site-packages/weaviate/connect/helpers.py:397\u001b[0m, in \u001b[0;36m__connect\u001b[0;34m(client)\u001b[0m\n\u001b[1;32m    395\u001b[0m \u001b[38;5;28;01mdef\u001b[39;00m \u001b[38;5;21m__connect\u001b[39m(client: WeaviateClient) \u001b[38;5;241m-\u001b[39m\u001b[38;5;241m>\u001b[39m WeaviateClient:\n\u001b[1;32m    396\u001b[0m     \u001b[38;5;28;01mtry\u001b[39;00m:\n\u001b[0;32m--> 397\u001b[0m         client\u001b[38;5;241m.\u001b[39mconnect()\n\u001b[1;32m    398\u001b[0m         \u001b[38;5;28;01mreturn\u001b[39;00m client\n\u001b[1;32m    399\u001b[0m     \u001b[38;5;28;01mexcept\u001b[39;00m \u001b[38;5;167;01mException\u001b[39;00m \u001b[38;5;28;01mas\u001b[39;00m e:\n",
      "File \u001b[0;32m~/anaconda3/lib/python3.11/site-packages/weaviate/client.py:287\u001b[0m, in \u001b[0;36mWeaviateClient.connect\u001b[0;34m(self)\u001b[0m\n\u001b[1;32m    285\u001b[0m \u001b[38;5;28;01mif\u001b[39;00m \u001b[38;5;28mself\u001b[39m\u001b[38;5;241m.\u001b[39m_connection\u001b[38;5;241m.\u001b[39mis_connected():\n\u001b[1;32m    286\u001b[0m     \u001b[38;5;28;01mreturn\u001b[39;00m\n\u001b[0;32m--> 287\u001b[0m \u001b[38;5;28mself\u001b[39m\u001b[38;5;241m.\u001b[39m_connection\u001b[38;5;241m.\u001b[39mconnect(\u001b[38;5;28mself\u001b[39m\u001b[38;5;241m.\u001b[39m__skip_init_checks)\n",
      "File \u001b[0;32m~/anaconda3/lib/python3.11/site-packages/weaviate/connect/v4.py:719\u001b[0m, in \u001b[0;36mConnectionV4.connect\u001b[0;34m(self, skip_init_checks)\u001b[0m\n\u001b[1;32m    717\u001b[0m \u001b[38;5;28mself\u001b[39m\u001b[38;5;241m.\u001b[39m_grpc_stub \u001b[38;5;241m=\u001b[39m weaviate_pb2_grpc\u001b[38;5;241m.\u001b[39mWeaviateStub(\u001b[38;5;28mself\u001b[39m\u001b[38;5;241m.\u001b[39m_grpc_channel)\n\u001b[1;32m    718\u001b[0m \u001b[38;5;28;01mif\u001b[39;00m \u001b[38;5;129;01mnot\u001b[39;00m skip_init_checks:\n\u001b[0;32m--> 719\u001b[0m     \u001b[38;5;28mself\u001b[39m\u001b[38;5;241m.\u001b[39m_ping_grpc()\n\u001b[1;32m    721\u001b[0m \u001b[38;5;66;03m# do it after all other init checks so as not to break all the tests\u001b[39;00m\n\u001b[1;32m    722\u001b[0m \u001b[38;5;28;01mif\u001b[39;00m \u001b[38;5;28mself\u001b[39m\u001b[38;5;241m.\u001b[39m_weaviate_version\u001b[38;5;241m.\u001b[39mis_lower_than(\u001b[38;5;241m1\u001b[39m, \u001b[38;5;241m23\u001b[39m, \u001b[38;5;241m7\u001b[39m):\n",
      "File \u001b[0;32m~/anaconda3/lib/python3.11/site-packages/weaviate/connect/v4.py:706\u001b[0m, in \u001b[0;36mConnectionV4._ping_grpc\u001b[0;34m(self)\u001b[0m\n\u001b[1;32m    702\u001b[0m         \u001b[38;5;28;01mraise\u001b[39;00m WeaviateGRPCUnavailableError(\n\u001b[1;32m    703\u001b[0m             \u001b[38;5;124mf\u001b[39m\u001b[38;5;124m\"\u001b[39m\u001b[38;5;124mv\u001b[39m\u001b[38;5;132;01m{\u001b[39;00m\u001b[38;5;28mself\u001b[39m\u001b[38;5;241m.\u001b[39mserver_version\u001b[38;5;132;01m}\u001b[39;00m\u001b[38;5;124m\"\u001b[39m, \u001b[38;5;28mself\u001b[39m\u001b[38;5;241m.\u001b[39m_connection_params\u001b[38;5;241m.\u001b[39m_grpc_address\n\u001b[1;32m    704\u001b[0m         )\n\u001b[1;32m    705\u001b[0m \u001b[38;5;28;01mexcept\u001b[39;00m _channel\u001b[38;5;241m.\u001b[39m_InactiveRpcError \u001b[38;5;28;01mas\u001b[39;00m e:\n\u001b[0;32m--> 706\u001b[0m     \u001b[38;5;28;01mraise\u001b[39;00m WeaviateGRPCUnavailableError(\n\u001b[1;32m    707\u001b[0m         \u001b[38;5;124mf\u001b[39m\u001b[38;5;124m\"\u001b[39m\u001b[38;5;124mv\u001b[39m\u001b[38;5;132;01m{\u001b[39;00m\u001b[38;5;28mself\u001b[39m\u001b[38;5;241m.\u001b[39mserver_version\u001b[38;5;132;01m}\u001b[39;00m\u001b[38;5;124m\"\u001b[39m, \u001b[38;5;28mself\u001b[39m\u001b[38;5;241m.\u001b[39m_connection_params\u001b[38;5;241m.\u001b[39m_grpc_address\n\u001b[1;32m    708\u001b[0m     ) \u001b[38;5;28;01mfrom\u001b[39;00m \u001b[38;5;21;01me\u001b[39;00m\n",
      "\u001b[0;31mWeaviateGRPCUnavailableError\u001b[0m: \nWeaviate v1.25.2 makes use of a high-speed gRPC API as well as a REST API.\nUnfortunately, the gRPC health check against Weaviate could not be completed.\n\nThis error could be due to one of several reasons:\n- The gRPC traffic at the specified port is blocked by a firewall.\n- gRPC is not enabled or incorrectly configured on the server or the client.\n    - Please check that the server address and port (pacant1-sandbox-z4lk9273.grpc.weaviate.network:443) are correct.\n- your connection is unstable or has a high latency. In this case you can:\n    - increase init-timeout in `weaviate.connect_to_local(additional_config=wvc.init.AdditionalConfig(timeout=wvc.init.Timeout(init=X)))`\n    - disable startup checks by connecting using `skip_init_checks=True`\n"
     ]
    }
   ],
   "source": [
    "load_dotenv()\n",
    "client = weaviate.connect_to_wcs(\n",
    "    cluster_url=os.getenv(\"WCD_URL2\"),\n",
    "    auth_credentials=weaviate.auth.AuthApiKey(os.getenv(\"WCD_API_KEY2\")),\n",
    "    headers={\n",
    "        \"X-Cohere-Api-Key\": os.environ[\"COHERE_APIKEY2\"] \n",
    "    }\n",
    ")"
   ]
  },
  {
   "cell_type": "code",
   "execution_count": null,
   "id": "8a12f08a",
   "metadata": {},
   "outputs": [],
   "source": [
    "movies = pd.read_csv('movie.csv')\n",
    "tags = pd.read_csv('tag.csv')"
   ]
  },
  {
   "cell_type": "code",
   "execution_count": null,
   "id": "befbb8ba",
   "metadata": {},
   "outputs": [],
   "source": [
    "max_tags = 5\n",
    "def truncate_and_remove_duplicates(tag_list):\n",
    "    truncated_list = tag_list[:max_tags]\n",
    "    unique_tags = list(dict.fromkeys(truncated_list))\n",
    "    return unique_tags"
   ]
  },
  {
   "cell_type": "code",
   "execution_count": null,
   "id": "38c9e9d6",
   "metadata": {},
   "outputs": [],
   "source": [
    "# -- data preparation -- #\n",
    "tags = tags.drop(columns=['timestamp','userId'])\n",
    "tags = tags[~tags.isnull().any(axis=1)]\n",
    "tags_grouped = tags.groupby('movieId')['tag'].apply(list).reset_index()\n",
    "tags_grouped['tag'] = tags_grouped['tag'].apply(truncate_and_remove_duplicates)\n",
    "movies_tag = pd.merge(movies, tags_grouped, on='movieId', how='left')\n",
    "movies_tag = movies_tag.drop(columns=['movieId'])"
   ]
  },
  {
   "cell_type": "code",
   "execution_count": null,
   "id": "b6194cd5",
   "metadata": {},
   "outputs": [],
   "source": [
    "movies_tag = movies_tag.iloc[:3000]"
   ]
  },
  {
   "cell_type": "code",
   "execution_count": null,
   "id": "dba4d4bb",
   "metadata": {},
   "outputs": [],
   "source": [
    "try: \n",
    "    # -- create Movies collection -- #\n",
    "    questions = client.collections.create(\n",
    "        name=\"Movies_new\",\n",
    "        properties=[\n",
    "        wvc.config.Property(name=\"title\", data_type=wvc.config.DataType.TEXT),\n",
    "        wvc.config.Property(name=\"genres\", data_type=wvc.config.DataType.TEXT),\n",
    "        wvc.config.Property(name=\"tag\", data_type=wvc.config.DataType.TEXT_ARRAY),\n",
    "        ],\n",
    "        vectorizer_config=[\n",
    "            wvc.config.Configure.NamedVectors.text2vec_cohere(name=\"title\", source_properties=[\"title\"]),\n",
    "                vector_index_config=wvc.config.Configure.VectorIndex.hnsw(\n",
    "                    quantizer=wvc.config.Configure.VectorIndex.Quantizer.bq(rescore_limit=50),\n",
    "                    distance_metric=wvc.config.VectorDistances.HAMMING,\n",
    "            ),\n",
    "            wvc.config.Configure.NamedVectors.text2vec_cohere(name=\"tag\", source_properties=[\"tag\"]),\n",
    "                vector_index_config=wvc.config.Configure.VectorIndex.hnsw(\n",
    "                    quantizer=wvc.config.Configure.VectorIndex.Quantizer.bq(rescore_limit=50),\n",
    "                    distance_metric=wvc.config.VectorDistances.HAMMING,\n",
    "                ),\n",
    "        ],\n",
    "        generative_config=wvc.config.Configure.Generative.cohere() \n",
    "    )\n",
    "    \n",
    "    # -- import data into Weaviate -- #\n",
    "    question_objs = []\n",
    "    for index, row in movies_tag.iterrows():\n",
    "        question_objs.append({\n",
    "            \"title\": row[\"title\"],\n",
    "            \"genres\": row[\"genres\"],\n",
    "            \"tag\": row[\"tag\"],\n",
    "        })\n",
    "    movies = client.collections.get(\"Movies_new\")\n",
    "    movies.data.insert_many(question_objs)\n",
    "finally:\n",
    "    client.close()  # Close client gracefully"
   ]
  },
  {
   "cell_type": "code",
   "execution_count": 454,
   "id": "f6389fb8",
   "metadata": {},
   "outputs": [
    {
     "ename": "WeaviateGRPCUnavailableError",
     "evalue": "\nWeaviate v1.25.2 makes use of a high-speed gRPC API as well as a REST API.\nUnfortunately, the gRPC health check against Weaviate could not be completed.\n\nThis error could be due to one of several reasons:\n- The gRPC traffic at the specified port is blocked by a firewall.\n- gRPC is not enabled or incorrectly configured on the server or the client.\n    - Please check that the server address and port (pacant1-sandbox-z4lk9273.grpc.weaviate.network:443) are correct.\n- your connection is unstable or has a high latency. In this case you can:\n    - increase init-timeout in `weaviate.connect_to_local(additional_config=wvc.init.AdditionalConfig(timeout=wvc.init.Timeout(init=X)))`\n    - disable startup checks by connecting using `skip_init_checks=True`\n",
     "output_type": "error",
     "traceback": [
      "\u001b[0;31m---------------------------------------------------------------------------\u001b[0m",
      "\u001b[0;31m_InactiveRpcError\u001b[0m                         Traceback (most recent call last)",
      "File \u001b[0;32m~/anaconda3/lib/python3.11/site-packages/weaviate/connect/v4.py:696\u001b[0m, in \u001b[0;36mConnectionV4._ping_grpc\u001b[0;34m(self)\u001b[0m\n\u001b[1;32m    695\u001b[0m \u001b[38;5;28;01mtry\u001b[39;00m:\n\u001b[0;32m--> 696\u001b[0m     res: health_pb2\u001b[38;5;241m.\u001b[39mHealthCheckResponse \u001b[38;5;241m=\u001b[39m \u001b[38;5;28mself\u001b[39m\u001b[38;5;241m.\u001b[39m_grpc_channel\u001b[38;5;241m.\u001b[39munary_unary(\n\u001b[1;32m    697\u001b[0m         \u001b[38;5;124m\"\u001b[39m\u001b[38;5;124m/grpc.health.v1.Health/Check\u001b[39m\u001b[38;5;124m\"\u001b[39m,\n\u001b[1;32m    698\u001b[0m         request_serializer\u001b[38;5;241m=\u001b[39mhealth_pb2\u001b[38;5;241m.\u001b[39mHealthCheckRequest\u001b[38;5;241m.\u001b[39mSerializeToString,\n\u001b[1;32m    699\u001b[0m         response_deserializer\u001b[38;5;241m=\u001b[39mhealth_pb2\u001b[38;5;241m.\u001b[39mHealthCheckResponse\u001b[38;5;241m.\u001b[39mFromString,\n\u001b[1;32m    700\u001b[0m     )(health_pb2\u001b[38;5;241m.\u001b[39mHealthCheckRequest(), timeout\u001b[38;5;241m=\u001b[39m\u001b[38;5;28mself\u001b[39m\u001b[38;5;241m.\u001b[39mtimeout_config\u001b[38;5;241m.\u001b[39minit)\n\u001b[1;32m    701\u001b[0m     \u001b[38;5;28;01mif\u001b[39;00m res\u001b[38;5;241m.\u001b[39mstatus \u001b[38;5;241m!=\u001b[39m health_pb2\u001b[38;5;241m.\u001b[39mHealthCheckResponse\u001b[38;5;241m.\u001b[39mSERVING:\n",
      "File \u001b[0;32m~/anaconda3/lib/python3.11/site-packages/grpc/_channel.py:1181\u001b[0m, in \u001b[0;36m_UnaryUnaryMultiCallable.__call__\u001b[0;34m(self, request, timeout, metadata, credentials, wait_for_ready, compression)\u001b[0m\n\u001b[1;32m   1175\u001b[0m (\n\u001b[1;32m   1176\u001b[0m     state,\n\u001b[1;32m   1177\u001b[0m     call,\n\u001b[1;32m   1178\u001b[0m ) \u001b[38;5;241m=\u001b[39m \u001b[38;5;28mself\u001b[39m\u001b[38;5;241m.\u001b[39m_blocking(\n\u001b[1;32m   1179\u001b[0m     request, timeout, metadata, credentials, wait_for_ready, compression\n\u001b[1;32m   1180\u001b[0m )\n\u001b[0;32m-> 1181\u001b[0m \u001b[38;5;28;01mreturn\u001b[39;00m _end_unary_response_blocking(state, call, \u001b[38;5;28;01mFalse\u001b[39;00m, \u001b[38;5;28;01mNone\u001b[39;00m)\n",
      "File \u001b[0;32m~/anaconda3/lib/python3.11/site-packages/grpc/_channel.py:1006\u001b[0m, in \u001b[0;36m_end_unary_response_blocking\u001b[0;34m(state, call, with_call, deadline)\u001b[0m\n\u001b[1;32m   1005\u001b[0m \u001b[38;5;28;01melse\u001b[39;00m:\n\u001b[0;32m-> 1006\u001b[0m     \u001b[38;5;28;01mraise\u001b[39;00m _InactiveRpcError(state)\n",
      "\u001b[0;31m_InactiveRpcError\u001b[0m: <_InactiveRpcError of RPC that terminated with:\n\tstatus = StatusCode.DEADLINE_EXCEEDED\n\tdetails = \"Deadline Exceeded\"\n\tdebug_error_string = \"UNKNOWN:Error received from peer  {created_time:\"2024-06-10T14:28:47.08087+02:00\", grpc_status:4, grpc_message:\"Deadline Exceeded\"}\"\n>",
      "\nThe above exception was the direct cause of the following exception:\n",
      "\u001b[0;31mWeaviateGRPCUnavailableError\u001b[0m              Traceback (most recent call last)",
      "Cell \u001b[0;32mIn[454], line 2\u001b[0m\n\u001b[1;32m      1\u001b[0m \u001b[38;5;28;01mtry\u001b[39;00m:\n\u001b[0;32m----> 2\u001b[0m     client\u001b[38;5;241m.\u001b[39mconnect()\n\u001b[1;32m      3\u001b[0m     questions \u001b[38;5;241m=\u001b[39m client\u001b[38;5;241m.\u001b[39mcollections\u001b[38;5;241m.\u001b[39mget(\u001b[38;5;124m\"\u001b[39m\u001b[38;5;124mMovies\u001b[39m\u001b[38;5;124m\"\u001b[39m)\n\u001b[1;32m      4\u001b[0m     response \u001b[38;5;241m=\u001b[39m questions\u001b[38;5;241m.\u001b[39mquery\u001b[38;5;241m.\u001b[39mnear_text(\n\u001b[1;32m      5\u001b[0m         query\u001b[38;5;241m=\u001b[39m\u001b[38;5;124m\"\u001b[39m\u001b[38;5;124mtaxi driver\u001b[39m\u001b[38;5;124m\"\u001b[39m,\n\u001b[1;32m      6\u001b[0m         target_vector\u001b[38;5;241m=\u001b[39m\u001b[38;5;124m\"\u001b[39m\u001b[38;5;124mtitle\u001b[39m\u001b[38;5;124m\"\u001b[39m,\n\u001b[1;32m      7\u001b[0m         limit\u001b[38;5;241m=\u001b[39m\u001b[38;5;241m1\u001b[39m\n\u001b[1;32m      8\u001b[0m     )\n",
      "File \u001b[0;32m~/anaconda3/lib/python3.11/site-packages/weaviate/client.py:287\u001b[0m, in \u001b[0;36mWeaviateClient.connect\u001b[0;34m(self)\u001b[0m\n\u001b[1;32m    285\u001b[0m \u001b[38;5;28;01mif\u001b[39;00m \u001b[38;5;28mself\u001b[39m\u001b[38;5;241m.\u001b[39m_connection\u001b[38;5;241m.\u001b[39mis_connected():\n\u001b[1;32m    286\u001b[0m     \u001b[38;5;28;01mreturn\u001b[39;00m\n\u001b[0;32m--> 287\u001b[0m \u001b[38;5;28mself\u001b[39m\u001b[38;5;241m.\u001b[39m_connection\u001b[38;5;241m.\u001b[39mconnect(\u001b[38;5;28mself\u001b[39m\u001b[38;5;241m.\u001b[39m__skip_init_checks)\n",
      "File \u001b[0;32m~/anaconda3/lib/python3.11/site-packages/weaviate/connect/v4.py:719\u001b[0m, in \u001b[0;36mConnectionV4.connect\u001b[0;34m(self, skip_init_checks)\u001b[0m\n\u001b[1;32m    717\u001b[0m \u001b[38;5;28mself\u001b[39m\u001b[38;5;241m.\u001b[39m_grpc_stub \u001b[38;5;241m=\u001b[39m weaviate_pb2_grpc\u001b[38;5;241m.\u001b[39mWeaviateStub(\u001b[38;5;28mself\u001b[39m\u001b[38;5;241m.\u001b[39m_grpc_channel)\n\u001b[1;32m    718\u001b[0m \u001b[38;5;28;01mif\u001b[39;00m \u001b[38;5;129;01mnot\u001b[39;00m skip_init_checks:\n\u001b[0;32m--> 719\u001b[0m     \u001b[38;5;28mself\u001b[39m\u001b[38;5;241m.\u001b[39m_ping_grpc()\n\u001b[1;32m    721\u001b[0m \u001b[38;5;66;03m# do it after all other init checks so as not to break all the tests\u001b[39;00m\n\u001b[1;32m    722\u001b[0m \u001b[38;5;28;01mif\u001b[39;00m \u001b[38;5;28mself\u001b[39m\u001b[38;5;241m.\u001b[39m_weaviate_version\u001b[38;5;241m.\u001b[39mis_lower_than(\u001b[38;5;241m1\u001b[39m, \u001b[38;5;241m23\u001b[39m, \u001b[38;5;241m7\u001b[39m):\n",
      "File \u001b[0;32m~/anaconda3/lib/python3.11/site-packages/weaviate/connect/v4.py:706\u001b[0m, in \u001b[0;36mConnectionV4._ping_grpc\u001b[0;34m(self)\u001b[0m\n\u001b[1;32m    702\u001b[0m         \u001b[38;5;28;01mraise\u001b[39;00m WeaviateGRPCUnavailableError(\n\u001b[1;32m    703\u001b[0m             \u001b[38;5;124mf\u001b[39m\u001b[38;5;124m\"\u001b[39m\u001b[38;5;124mv\u001b[39m\u001b[38;5;132;01m{\u001b[39;00m\u001b[38;5;28mself\u001b[39m\u001b[38;5;241m.\u001b[39mserver_version\u001b[38;5;132;01m}\u001b[39;00m\u001b[38;5;124m\"\u001b[39m, \u001b[38;5;28mself\u001b[39m\u001b[38;5;241m.\u001b[39m_connection_params\u001b[38;5;241m.\u001b[39m_grpc_address\n\u001b[1;32m    704\u001b[0m         )\n\u001b[1;32m    705\u001b[0m \u001b[38;5;28;01mexcept\u001b[39;00m _channel\u001b[38;5;241m.\u001b[39m_InactiveRpcError \u001b[38;5;28;01mas\u001b[39;00m e:\n\u001b[0;32m--> 706\u001b[0m     \u001b[38;5;28;01mraise\u001b[39;00m WeaviateGRPCUnavailableError(\n\u001b[1;32m    707\u001b[0m         \u001b[38;5;124mf\u001b[39m\u001b[38;5;124m\"\u001b[39m\u001b[38;5;124mv\u001b[39m\u001b[38;5;132;01m{\u001b[39;00m\u001b[38;5;28mself\u001b[39m\u001b[38;5;241m.\u001b[39mserver_version\u001b[38;5;132;01m}\u001b[39;00m\u001b[38;5;124m\"\u001b[39m, \u001b[38;5;28mself\u001b[39m\u001b[38;5;241m.\u001b[39m_connection_params\u001b[38;5;241m.\u001b[39m_grpc_address\n\u001b[1;32m    708\u001b[0m     ) \u001b[38;5;28;01mfrom\u001b[39;00m \u001b[38;5;21;01me\u001b[39;00m\n",
      "\u001b[0;31mWeaviateGRPCUnavailableError\u001b[0m: \nWeaviate v1.25.2 makes use of a high-speed gRPC API as well as a REST API.\nUnfortunately, the gRPC health check against Weaviate could not be completed.\n\nThis error could be due to one of several reasons:\n- The gRPC traffic at the specified port is blocked by a firewall.\n- gRPC is not enabled or incorrectly configured on the server or the client.\n    - Please check that the server address and port (pacant1-sandbox-z4lk9273.grpc.weaviate.network:443) are correct.\n- your connection is unstable or has a high latency. In this case you can:\n    - increase init-timeout in `weaviate.connect_to_local(additional_config=wvc.init.AdditionalConfig(timeout=wvc.init.Timeout(init=X)))`\n    - disable startup checks by connecting using `skip_init_checks=True`\n"
     ]
    }
   ],
   "source": [
    "try:\n",
    "    client.connect()\n",
    "    questions = client.collections.get(\"Movies\")\n",
    "    response = questions.query.near_text(\n",
    "        query=\"taxi driver\",\n",
    "        target_vector=\"title\",\n",
    "        limit=1\n",
    "    )\n",
    "    response_tag = questions.query.near_text(\n",
    "        query= str(response.objects[0].properties['tag']),\n",
    "        target_vector=\"tag\",\n",
    "        limit=4\n",
    "    )\n",
    "    print(response_tag.objects[1].properties)\n",
    "finally:\n",
    "    client.close()"
   ]
  }
 ],
 "metadata": {
  "kernelspec": {
   "display_name": "Python 3 (ipykernel)",
   "language": "python",
   "name": "python3"
  },
  "language_info": {
   "codemirror_mode": {
    "name": "ipython",
    "version": 3
   },
   "file_extension": ".py",
   "mimetype": "text/x-python",
   "name": "python",
   "nbconvert_exporter": "python",
   "pygments_lexer": "ipython3",
   "version": "3.11.5"
  }
 },
 "nbformat": 4,
 "nbformat_minor": 5
}

{
 "cells": [
  {
   "cell_type": "code",
   "execution_count": 455,
   "id": "8a5c8729",
   "metadata": {},
   "outputs": [],
   "source": [
    "import weaviate\n",
    "import weaviate.classes as wvc\n",
    "import os\n",
    "import pandas as pd\n",
    "import requests\n",
    "import json\n",
    "from dotenv import load_dotenv\n",
    "from sklearn.decomposition import PCA"
   ]
  },
  {
   "cell_type": "code",
   "execution_count": 456,
   "id": "bdff4b96",
   "metadata": {},
   "outputs": [
    {
     "data": {
      "text/plain": [
       "True"
      ]
     },
     "execution_count": 456,
     "metadata": {},
     "output_type": "execute_result"
    }
   ],
   "source": [
    "load_dotenv()"
   ]
  },
  {
   "cell_type": "code",
   "execution_count": 457,
   "id": "bf8735f5",
   "metadata": {},
   "outputs": [],
   "source": [
    "load_dotenv()\n",
    "client = weaviate.connect_to_wcs(\n",
    "    cluster_url=os.getenv(\"WCD_URL2\"),\n",
    "    auth_credentials=weaviate.auth.AuthApiKey(os.getenv(\"WCD_API_KEY2\")),\n",
    "    headers={\n",
    "        \"X-Cohere-Api-Key\": os.environ[\"COHERE_APIKEY2\"] \n",
    "    }\n",
    ")"
   ]
  },
  {
   "cell_type": "code",
   "execution_count": 458,
   "id": "b0ec4437",
   "metadata": {},
   "outputs": [],
   "source": [
    "movies = pd.read_csv('movie.csv')\n",
    "tags = pd.read_csv('tag.csv')"
   ]
  },
  {
   "cell_type": "code",
   "execution_count": 459,
   "id": "3361854a",
   "metadata": {},
   "outputs": [],
   "source": [
    "max_tags = 5\n",
    "def truncate_and_remove_duplicates(tag_list):\n",
    "    truncated_list = tag_list[:max_tags]\n",
    "    unique_tags = list(dict.fromkeys(truncated_list))\n",
    "    return unique_tags"
   ]
  },
  {
   "cell_type": "code",
   "execution_count": 460,
   "id": "1c55d292",
   "metadata": {},
   "outputs": [],
   "source": [
    "# -- data preparation -- #\n",
    "tags = tags.drop(columns=['timestamp','userId'])\n",
    "tags = tags[~tags.isnull().any(axis=1)]\n",
    "tags_grouped = tags.groupby('movieId')['tag'].apply(list).reset_index()\n",
    "tags_grouped['tag'] = tags_grouped['tag'].apply(truncate_and_remove_duplicates)\n",
    "movies_tag = pd.merge(movies, tags_grouped, on='movieId', how='left')\n",
    "movies_tag = movies_tag.drop(columns=['movieId'])"
   ]
  },
  {
   "cell_type": "code",
   "execution_count": 461,
   "id": "6e85466a",
   "metadata": {},
   "outputs": [],
   "source": [
    "movies_tag = movies_tag.iloc[:3000]"
   ]
  },
  {
   "cell_type": "code",
   "execution_count": 462,
   "id": "0e22f5fb",
   "metadata": {},
   "outputs": [
    {
     "ename": "SyntaxError",
     "evalue": "invalid syntax. Maybe you meant '==' or ':=' instead of '='? (522332562.py, line 12)",
     "output_type": "error",
     "traceback": [
      "\u001b[0;36m  Cell \u001b[0;32mIn[462], line 12\u001b[0;36m\u001b[0m\n\u001b[0;31m    vector_index_config=wvc.config.Configure.VectorIndex.hnsw(\u001b[0m\n\u001b[0m    ^\u001b[0m\n\u001b[0;31mSyntaxError\u001b[0m\u001b[0;31m:\u001b[0m invalid syntax. Maybe you meant '==' or ':=' instead of '='?\n"
     ]
    }
   ],
   "source": [
    "try: \n",
    "    # -- create Movies collection -- #\n",
    "    movies_collection = client.collections.create(\n",
    "        name=\"Movies\",\n",
    "        properties=[\n",
    "        wvc.config.Property(name=\"title\", data_type=wvc.config.DataType.TEXT),\n",
    "        wvc.config.Property(name=\"genres\", data_type=wvc.config.DataType.TEXT),\n",
    "        wvc.config.Property(name=\"tag\", data_type=wvc.config.DataType.TEXT_ARRAY),\n",
    "        ],\n",
    "        vectorizer_config=[\n",
    "            wvc.config.Configure.NamedVectors.text2vec_cohere(\n",
    "                name=\"title\",\n",
    "                source_properties=[\"title\"]\n",
    "                vector_index_config=wc.Configure.VectorIndex.flat(\n",
    "                    quantizer=wc.Configure.VectorIndex.Quantizer.bq()\n",
    "                ),\n",
    "            ),\n",
    "            wvc.config.Configure.NamedVectors.text2vec_cohere(\n",
    "                name=\"tag\",\n",
    "                source_properties=[\"tag\"]\n",
    "                vector_index_config=wc.Configure.VectorIndex.flat(\n",
    "                    quantizer=wc.Configure.VectorIndex.Quantizer.bq()\n",
    "                ),\n",
    "            ),\n",
    "           \n",
    "        ],\n",
    "        generative_config=wvc.config.Configure.Generative.cohere() \n",
    "    )\n",
    "    \n",
    "    # -- import data into Weaviate -- #\n",
    "    movies_objs = []\n",
    "    for index, row in movies_tag.iterrows():\n",
    "        movies_objs.append({\n",
    "            \"title\": row[\"title\"],\n",
    "            \"genres\": row[\"genres\"],\n",
    "            \"tag\": row[\"tag\"],\n",
    "        })\n",
    "    movies = client.collections.get(\"Movies\")\n",
    "    movies.data.insert_many(movies_objs)\n",
    "finally:\n",
    "    client.close()  # Close client gracefully"
   ]
  },
  {
   "cell_type": "code",
   "execution_count": null,
   "id": "06aa3117",
   "metadata": {},
   "outputs": [],
   "source": [
    "try:\n",
    "    client.connect()\n",
    "    movies_collection = client.collections.get(\"Movies\")\n",
    "    response = movies_collection.query.near_text(\n",
    "        query=\"taxi driver\",\n",
    "        target_vector=\"title\",\n",
    "        limit=1\n",
    "    )\n",
    "    response_tag = movies_collection.query.near_text(\n",
    "        query= str(response.objects[0].properties['tag']),\n",
    "        target_vector=\"tag\",\n",
    "        limit=4\n",
    "    )\n",
    "    print(response_tag.objects[1].properties)\n",
    "finally:\n",
    "    client.close()"
   ]
  },
  {
   "cell_type": "code",
   "execution_count": null,
   "id": "35a59481",
   "metadata": {},
   "outputs": [],
   "source": [
    "import ipywidgets as widgets\n",
    "from IPython.display import display\n",
    "\n"
   ]
  }
 ],
 "metadata": {
  "kernelspec": {
   "display_name": "Python 3 (ipykernel)",
   "language": "python",
   "name": "python3"
  },
  "language_info": {
   "codemirror_mode": {
    "name": "ipython",
    "version": 3
   },
   "file_extension": ".py",
   "mimetype": "text/x-python",
   "name": "python",
   "nbconvert_exporter": "python",
   "pygments_lexer": "ipython3",
   "version": "3.11.5"
  }
 },
 "nbformat": 4,
 "nbformat_minor": 5
}

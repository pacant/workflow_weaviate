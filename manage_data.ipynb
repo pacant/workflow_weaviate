{
 "cells": [
  {
   "cell_type": "code",
   "execution_count": 489,
   "id": "8a5c8729",
   "metadata": {},
   "outputs": [],
   "source": [
    "import weaviate\n",
    "import weaviate.classes as wvc\n",
    "import os\n",
    "import pandas as pd\n",
    "import requests\n",
    "import json\n",
    "from dotenv import load_dotenv\n",
    "from sklearn.decomposition import PCA"
   ]
  },
  {
   "cell_type": "code",
   "execution_count": 499,
   "id": "e87d4277",
   "metadata": {
    "scrolled": true
   },
   "outputs": [
    {
     "data": {
      "text/plain": [
       "True"
      ]
     },
     "execution_count": 499,
     "metadata": {},
     "output_type": "execute_result"
    }
   ],
   "source": [
    "load_dotenv()"
   ]
  },
  {
   "cell_type": "code",
   "execution_count": 458,
   "id": "803a7c1d",
   "metadata": {},
   "outputs": [],
   "source": [
    "movies = pd.read_csv('movie.csv')\n",
    "tags = pd.read_csv('tag.csv')"
   ]
  },
  {
   "cell_type": "code",
   "execution_count": 459,
   "id": "5fd63c29",
   "metadata": {},
   "outputs": [],
   "source": [
    "max_tags = 5\n",
    "def truncate_and_remove_duplicates(tag_list):\n",
    "    truncated_list = tag_list[:max_tags]\n",
    "    unique_tags = list(dict.fromkeys(truncated_list))\n",
    "    return unique_tags"
   ]
  },
  {
   "cell_type": "code",
   "execution_count": 460,
   "id": "6af50af9",
   "metadata": {},
   "outputs": [],
   "source": [
    "# -- dropping useless columns and null values -- #\n",
    "tags = tags.drop(columns=['timestamp','userId'])\n",
    "tags = tags[~tags.isnull().any(axis=1)]\n",
    "\n",
    "# -- grouping tags of the same movie -- #\n",
    "tags_grouped = tags.groupby('movieId')['tag'].apply(list).reset_index()\n",
    "tags_grouped['tag'] = tags_grouped['tag'].apply(truncate_and_remove_duplicates)\n",
    "\n",
    "# -- creating a dataframe that contains movie title, genre and tags -- #\n",
    "movies_tag = pd.merge(movies, tags_grouped, on='movieId', how='left')\n",
    "movies_tag = movies_tag.drop(columns=['movieId'])"
   ]
  },
  {
   "cell_type": "code",
   "execution_count": 461,
   "id": "5fce1955",
   "metadata": {},
   "outputs": [],
   "source": [
    "# -- since i'm using the free plan I just use the first 3000 movies -- #\n",
    "movies_tag = movies_tag.iloc[:3000]"
   ]
  },
  {
   "cell_type": "code",
   "execution_count": 500,
   "id": "508d2f22",
   "metadata": {},
   "outputs": [],
   "source": [
    "try: \n",
    "    # -- connection to Weaviate client -- #\n",
    "    client = weaviate.connect_to_wcs(\n",
    "        cluster_url=os.getenv(\"WCD_URL\"),\n",
    "        auth_credentials=weaviate.auth.AuthApiKey(os.getenv(\"WCD_API_KEY\")),\n",
    "        headers={\n",
    "            \"X-Cohere-Api-Key\": os.environ[\"COHERE_APIKEY\"] \n",
    "        }\n",
    "    )\n",
    "    # -- create Movies collection -- #\n",
    "    movies_collection = client.collections.create(\n",
    "        name=\"Movies_new\",\n",
    "        properties=[\n",
    "        wvc.config.Property(name=\"title\", data_type=wvc.config.DataType.TEXT),\n",
    "        wvc.config.Property(name=\"genres\", data_type=wvc.config.DataType.TEXT),\n",
    "        wvc.config.Property(name=\"tag\", data_type=wvc.config.DataType.TEXT_ARRAY),\n",
    "        ],\n",
    "        # -- using 2 named vectors with binary quantization for title and tag -- #\n",
    "        vectorizer_config=[\n",
    "            wvc.config.Configure.NamedVectors.text2vec_cohere(\n",
    "                name=\"title\",\n",
    "                source_properties=[\"title\"],\n",
    "                vector_index_config=wvc.config.Configure.VectorIndex.flat(\n",
    "                    quantizer=wvc.config.Configure.VectorIndex.Quantizer.bq()\n",
    "                ),\n",
    "            ),\n",
    "            wvc.config.Configure.NamedVectors.text2vec_cohere(\n",
    "                name=\"tag\",\n",
    "                source_properties=[\"tag\"],\n",
    "                vector_index_config=wvc.config.Configure.VectorIndex.flat(\n",
    "                    quantizer=wvc.config.Configure.VectorIndex.Quantizer.bq()\n",
    "                ),\n",
    "            ),\n",
    "           \n",
    "        ],\n",
    "        generative_config=wvc.config.Configure.Generative.cohere() \n",
    "    )\n",
    "    \n",
    "    # -- import data into Weaviate -- #\n",
    "    movies_objs = []\n",
    "    for index, row in movies_tag.iterrows():\n",
    "        movies_objs.append({\n",
    "            \"title\": row[\"title\"],\n",
    "            \"genres\": row[\"genres\"],\n",
    "            \"tag\": row[\"tag\"],\n",
    "        })\n",
    "    movies = client.collections.get(\"Movies_new\")\n",
    "    movies.data.insert_many(movies_objs)\n",
    "finally:\n",
    "    client.close()"
   ]
  }
 ],
 "metadata": {
  "kernelspec": {
   "display_name": "Python 3 (ipykernel)",
   "language": "python",
   "name": "python3"
  },
  "language_info": {
   "codemirror_mode": {
    "name": "ipython",
    "version": 3
   },
   "file_extension": ".py",
   "mimetype": "text/x-python",
   "name": "python",
   "nbconvert_exporter": "python",
   "pygments_lexer": "ipython3",
   "version": "3.11.5"
  }
 },
 "nbformat": 4,
 "nbformat_minor": 5
}
